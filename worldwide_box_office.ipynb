{
 "cells": [
  {
   "cell_type": "markdown",
   "id": "close-ontario",
   "metadata": {},
   "source": [
    "# Install the required packages"
   ]
  },
  {
   "cell_type": "code",
   "execution_count": null,
   "id": "celtic-desktop",
   "metadata": {},
   "outputs": [],
   "source": [
    "import sys\n",
    "!{sys.executable} -m pip install plotly psutil requests plotnine openpyxl lxml pandas\n",
    "!{sys.executable} -m pip install --upgrade nbformat"
   ]
  },
  {
   "cell_type": "markdown",
   "id": "physical-default",
   "metadata": {},
   "source": [
    "# Import the required packages "
   ]
  },
  {
   "cell_type": "code",
   "execution_count": null,
   "id": "integrated-drilling",
   "metadata": {},
   "outputs": [],
   "source": [
    "import lxml\n",
    "import pandas as pd\n",
    "from datetime import datetime as dt\n",
    "import os\n",
    "import plotly.graph_objects as go\n",
    "import plotly\n",
    "from plotnine import *\n",
    "import tempfile\n",
    "from time import sleep"
   ]
  },
  {
   "cell_type": "markdown",
   "id": "angry-violin",
   "metadata": {},
   "source": [
    "# Create the Class and the necessary functions"
   ]
  },
  {
   "cell_type": "code",
   "execution_count": null,
   "id": "classical-graduation",
   "metadata": {},
   "outputs": [],
   "source": [
    "\n",
    "class bom():\n",
    "    \n",
    "    def __init__(self,url=\"https://www.boxofficemojo.com/year/world/\"):\n",
    "        self.url=url\n",
    "        \n",
    "    \"\"\"\n",
    "    This function takes in min_year (earliest year of data you want) and max_year (latest year of data you want)\n",
    "    as parameters and uses pd.read_html function to scrape the html table from the box office mojo's page and\n",
    "    convert it into a dataframe.\n",
    "    \"\"\"\n",
    "    \n",
    "    def collect_bom(self, min_year=2019, max_year=2021):\n",
    "        \n",
    "        years=list(range(min_year, max_year+1))\n",
    "        df2 = pd.DataFrame()\n",
    "        \n",
    "        for i in years:\n",
    "            url = self.url +f\"{i}/\"\n",
    "            print(f\"Collecting data for {i}\")\n",
    "            df = pd.read_html(url)\n",
    "            dfn = df[0]\n",
    "            dfn['year']=i\n",
    "            df2 = pd.concat([df2,dfn],axis=0)\n",
    "            \n",
    "        df2.rename(columns={'Rank':'rank',\"Release Group\":'movie_name','Worldwide':'worldwide_gross',\n",
    "                  'Domestic':'domestic_gross','%':'domestic_perc','Foreign':'foreign_gross',\n",
    "                  '%.1':'foreign_perc'},inplace=True)\n",
    "        \n",
    "        df2.reset_index(inplace=True,drop=True)\n",
    "        df2.drop(['domestic_perc','foreign_perc','rank'],axis=1,inplace=True)\n",
    "        \n",
    "        gross_columns = ['worldwide_gross','domestic_gross','foreign_gross']\n",
    "        for j in gross_columns:\n",
    "            df2[j]=df2[j].str.replace(',','',regex=False).str.replace(\n",
    "                '$','',regex=False).str.replace(r'^-$','0',regex=True).astype(float)\n",
    "            \n",
    "        df2['domestic_perc']= ((df2['domestic_gross']/df2['worldwide_gross'])*100).round(2)\n",
    "        df2['foreign_perc']= ((df2['foreign_gross']/df2['worldwide_gross'])*100).round(2)\n",
    "        df2['year']=df2['year'].astype(str)\n",
    "        \n",
    "        print(\"Data Collection Compelete!\")\n",
    "        self.d = df2.copy()\n",
    "        print(\"Saving the data as a csv file in your Download folder!\")\n",
    "        self.d.to_csv(os.path.expanduser(f'~/Downloads/worldwide_box_office({min_year}-{max_year}).csv'),index=False)\n",
    "        \n",
    "        return self.d\n",
    "\n",
    "    def get_top_movies(self,column='worldwide_gross',number=10):\n",
    "        \n",
    "        self.d2 = self.d.sort_values([column],ascending=[False])\n",
    "        self.d3=self.d2.head(10)\n",
    "        \n",
    "        return self.d3\n",
    "    \n",
    "    def plot_gross_scatter(self,x='worldwide_gross',y='domestic_gross',text='hovertext',size='domestic_perc'):\n",
    "        \n",
    "        def custom_hover(year, worldwide_gross, domestic_gross, foreign_gross):\n",
    "            return \"\"\"Year: {}<br>Worldwide: {} $<br>Domestic: {} $<br>Foreign: {} $\n",
    "            \"\"\".format(year, worldwide_gross, domestic_gross, foreign_gross)\n",
    "        \n",
    "        d3 = self.d3.copy()\n",
    "        d3['hovertext'] = d3.apply(lambda x: custom_hover(\n",
    "            x['year'],\n",
    "            x['worldwide_gross'],\n",
    "            x['domestic_gross'],\n",
    "            x['foreign_gross']\n",
    "        ), axis = 1)\n",
    "        \n",
    "        fig1 = go.Figure()\n",
    "\n",
    "        for i in d3.movie_name.unique():\n",
    "            ndf = d3.query('movie_name == @i')\n",
    "\n",
    "            fig1.add_trace(\n",
    "                go.Scatter(\n",
    "                        x=ndf[x],\n",
    "                        y=ndf[y],\n",
    "                        text=ndf[text],\n",
    "                        hovertemplate=\"<b>\"+i+\"</b><br><extra></extra>%{text}\",\n",
    "                        mode = 'markers',\n",
    "                        opacity = 1,\n",
    "                        name = i,\n",
    "                        marker=dict(size=ndf[size])\n",
    "                        )     \n",
    "                )\n",
    "\n",
    "        m=fig1.update_layout(\n",
    "\n",
    "            xaxis={'titlefont':{'color':'#858585'},'linecolor':'#000000',\n",
    "                   'tickfont':{'color':'#858585','size':18},'showgrid':False},\n",
    "\n",
    "            yaxis={'titlefont':{'color':'#858585','size':20}, 'tickfont':{'color':'#858585','size':18},\n",
    "                   'showgrid':False},\n",
    "            margin={'l': 80, 'b': 40, 't': 30, 'r': 40},\n",
    "            title={'text': None},#, 'font':{'color':'#2c4a91', 'size':26},'yanchor':\"top\",'xanchor':\"left\",'y':.98,'x':.01},\n",
    "#             legend={'font':{'size':14, 'color':'#333'},'yanchor':\"middle\",'xanchor':\"right\",'y':.5,'orientation':'v',\n",
    "#                     'font':{'size':16,'color':'#000000'}},\n",
    "            template = 'none',\n",
    "            #legend_title_text='',\n",
    "            hovermode='closest',\n",
    "            width = 1850,\n",
    "            height = 950,\n",
    "            showlegend =  True\n",
    "        )\n",
    "\n",
    "        temp_file = tempfile.NamedTemporaryFile(suffix = '.html')\n",
    "        \n",
    "        sleep(5)\n",
    "\n",
    "        s = plotly.offline.plot(m, filename=temp_file.name, auto_open=True)\n",
    "    "
   ]
  },
  {
   "cell_type": "markdown",
   "id": "expensive-donor",
   "metadata": {},
   "source": [
    "# Call the class and run the functions "
   ]
  },
  {
   "cell_type": "code",
   "execution_count": null,
   "id": "northern-azerbaijan",
   "metadata": {},
   "outputs": [],
   "source": [
    "dk = bom()\n",
    "dm=dk.collect_bom(min_year=2010,max_year=2021)\n",
    "dm2=dk.get_top_movies()\n",
    "dk.plot_gross_scatter()"
   ]
  },
  {
   "cell_type": "markdown",
   "id": "herbal-enforcement",
   "metadata": {},
   "source": [
    "# Display the scraped Data "
   ]
  },
  {
   "cell_type": "code",
   "execution_count": null,
   "id": "stupid-breathing",
   "metadata": {},
   "outputs": [],
   "source": [
    "dm2"
   ]
  }
 ],
 "metadata": {
  "kernelspec": {
   "display_name": "ipynb",
   "language": "python",
   "name": "ipynb"
  },
  "language_info": {
   "codemirror_mode": {
    "name": "ipython",
    "version": 3
   },
   "file_extension": ".py",
   "mimetype": "text/x-python",
   "name": "python",
   "nbconvert_exporter": "python",
   "pygments_lexer": "ipython3",
   "version": "3.9.2"
  }
 },
 "nbformat": 4,
 "nbformat_minor": 5
}
